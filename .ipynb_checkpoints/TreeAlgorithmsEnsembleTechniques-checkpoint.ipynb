{
 "cells": [
  {
   "cell_type": "markdown",
   "metadata": {},
   "source": [
    "# Tree Algorithms and Ensemble Techniques\n",
    "\n",
    "We'll try two tree-based methods to predict departure delays at O'Hare International Airport (ORD). The two methods we'll try are **Decision Trees** and **Random Forests**. We'll also get our weather information from another source to see if we can improve on the Supervised Learning methods we tried."
   ]
  },
  {
   "cell_type": "markdown",
   "metadata": {
    "deletable": false,
    "nbgrader": {
     "checksum": "e86311be21f81c722c21243bd984de5f",
     "grade": false,
     "grade_id": "header",
     "locked": true,
     "solution": false
    }
   },
   "source": [
    "## Decision Trees\n",
    "\n",
    "Let's try a Decision Trees algorithm to see if we can predict departure delays at the O'Hare airport (ORD). It is important to note that before we can actually fit the decision trees model, we have to prepare our data. Data preparation is a crucial component of Data Science, as is the machine learning which we will do later in this notebook."
   ]
  },
  {
   "cell_type": "code",
   "execution_count": 1,
   "metadata": {
    "collapsed": false,
    "deletable": false,
    "nbgrader": {
     "checksum": "be7953bdb303181791e933655af4366a",
     "grade": false,
     "grade_id": "import",
     "locked": true,
     "solution": false
    }
   },
   "outputs": [
    {
     "name": "stderr",
     "output_type": "stream",
     "text": [
      "/Library/Frameworks/Python.framework/Versions/3.5/lib/python3.5/site-packages/IPython/html.py:14: ShimWarning: The `IPython.html` package has been deprecated. You should import from `notebook` instead. `IPython.html.widgets` has moved to `ipywidgets`.\n",
      "  \"`IPython.html.widgets` has moved to `ipywidgets`.\", ShimWarning)\n"
     ]
    }
   ],
   "source": [
    "% matplotlib inline\n",
    "\n",
    "import matplotlib.pyplot as plt\n",
    "\n",
    "from sklearn.utils import check_random_state\n",
    "from sklearn.metrics import accuracy_score\n",
    "from pprint import pprint\n",
    "\n",
    "from helper import *"
   ]
  },
  {
   "cell_type": "markdown",
   "metadata": {},
   "source": [
    "In the SupervisedLearning notebook, we got weather from an NOAA database. Now we'll try using WeatherUnderground, because they also have visibility information, which can be vital to predicting delays.\n",
    "\n",
    "![](http://www.wunderground.com/logos/images/wundergroundLogo_4c.jpg)\n",
    "\n",
    "Here is a snippet of code to pull weather information from WU. Note that you'll need to sign up for an account and get an API token in order to pull data:\n",
    "\n",
    "```python\n",
    "def get_2001_json(date, year=2001):\n",
    "    url = 'http://api.wunderground.com/api/<token>/history_{0}{1}/conditions/q/KORD.json'.format(year, date)\n",
    "    resp = requests.get(url)\n",
    "    resp_json = resp.json()\n",
    "    return resp_json\n",
    "\n",
    "def save_2001_json(date, dir_name='data', filename='weather_kord_2001_{}.json'):\n",
    "    data = get_2001_json(date)\n",
    "    path = os.path.join(dir_name, filename.format(date))\n",
    "    with open(path, 'w') as f:\n",
    "        json.dump(data, f)\n",
    "\n",
    "dates = ['{0:0>2}{1:0>2}'.format(m, d) for m in [1, 3, 5, 7, 8, 10, 12] for d in range(1, 32)]\n",
    "dates.extend(['{0:0>2}{1:0>2}'.format(m, d) for m in [4, 6, 9, 11] for d in range(1, 31)])\n",
    "dates.extend(['02{0:0>2}'.format(d) for d in range(1, 29)])\n",
    "\n",
    "if not os.path.exists('data'):\n",
    "    os.mkdir('data')\n",
    "\n",
    "for d in dates:\n",
    "    save_2001_json(d)\n",
    "    time.sleep(6)\n",
    "```"
   ]
  },
  {
   "cell_type": "code",
   "execution_count": 2,
   "metadata": {
    "collapsed": false,
    "deletable": false,
    "nbgrader": {
     "checksum": "7be4c8dca7a1b7d2eb55863bf752288f",
     "grade": false,
     "grade_id": "ls_weather",
     "locked": true,
     "solution": false
    }
   },
   "outputs": [
    {
     "name": "stdout",
     "output_type": "stream",
     "text": [
      "weather_kord_2001_0101.json\r\n",
      "weather_kord_2001_0102.json\r\n",
      "weather_kord_2001_0103.json\r\n",
      "weather_kord_2001_0104.json\r\n",
      "weather_kord_2001_0105.json\r\n",
      "weather_kord_2001_0106.json\r\n",
      "weather_kord_2001_0107.json\r\n",
      "weather_kord_2001_0108.json\r\n",
      "weather_kord_2001_0109.json\r\n",
      "weather_kord_2001_0110.json\r\n"
     ]
    }
   ],
   "source": [
    "!ls ~/weather | head"
   ]
  },
  {
   "cell_type": "markdown",
   "metadata": {},
   "source": [
    "### Load JSON files\n",
    "\n",
    "- Function `from_json_to_dict()` that takes a string in the format `MMDD` (M = Month, D = Day of month) and returns a dictionary. We won't use this function directly, but it'll be called in a later function."
   ]
  },
  {
   "cell_type": "markdown",
   "metadata": {},
   "source": [
    "### Parse time and visibility from JSON\n",
    "\n",
    "- Function `from_dict_to_visibility()` takes a dictionary and returns a tuple of `(Month, Day, Hour, Minute, Visibility)`.\n",
    "\n",
    "Let's examine the data contained in these JSON files. First, we create a dictionary `data` by reading the json file `weather_kord_2001_0101.json`."
   ]
  },
  {
   "cell_type": "code",
   "execution_count": 3,
   "metadata": {
    "collapsed": false
   },
   "outputs": [
    {
     "name": "stdout",
     "output_type": "stream",
     "text": [
      "dict_keys(['history', 'response', 'current_observation'])\n"
     ]
    }
   ],
   "source": [
    "data = from_json_to_dict('0101')\n",
    "print(data.keys())"
   ]
  },
  {
   "cell_type": "markdown",
   "metadata": {},
   "source": [
    "`history` is the most important element here, so we can take a look at what it contains:"
   ]
  },
  {
   "cell_type": "code",
   "execution_count": 4,
   "metadata": {
    "collapsed": false
   },
   "outputs": [
    {
     "name": "stdout",
     "output_type": "stream",
     "text": [
      "dict_keys(['utcdate', 'dailysummary', 'observations', 'date'])\n"
     ]
    }
   ],
   "source": [
    "print(data['history'].keys())"
   ]
  },
  {
   "cell_type": "code",
   "execution_count": 5,
   "metadata": {
    "collapsed": false
   },
   "outputs": [
    {
     "name": "stdout",
     "output_type": "stream",
     "text": [
      "<class 'list'>\n"
     ]
    }
   ],
   "source": [
    "print(type(data['history']['observations']))"
   ]
  },
  {
   "cell_type": "markdown",
   "metadata": {},
   "source": [
    "`observations` is a list, which actually contains the information we seek. The first element within `observations`, and subsequent elements will adhere to the following schema:"
   ]
  },
  {
   "cell_type": "code",
   "execution_count": 6,
   "metadata": {
    "collapsed": false
   },
   "outputs": [
    {
     "name": "stdout",
     "output_type": "stream",
     "text": [
      "{'conds': 'Overcast',\n",
      " 'date': {'hour': '00',\n",
      "          'mday': '01',\n",
      "          'min': '56',\n",
      "          'mon': '01',\n",
      "          'pretty': '12:56 AM CST on January 01, 2001',\n",
      "          'tzname': 'America/Chicago',\n",
      "          'year': '2001'},\n",
      " 'dewpti': '10.9',\n",
      " 'dewptm': '-11.7',\n",
      " 'fog': '0',\n",
      " 'hail': '0',\n",
      " 'heatindexi': '-9999',\n",
      " 'heatindexm': '-9999',\n",
      " 'hum': '92',\n",
      " 'icon': 'cloudy',\n",
      " 'metar': 'METAR KORD 010656Z 36004KT 9SM BKN055 OVC095 M11/M12 A3034 RMK AO2 '\n",
      "          'SLP285 T11061117 $',\n",
      " 'precipi': '-9999.00',\n",
      " 'precipm': '-9999.00',\n",
      " 'pressurei': '30.38',\n",
      " 'pressurem': '1028.5',\n",
      " 'rain': '0',\n",
      " 'snow': '0',\n",
      " 'tempi': '12.9',\n",
      " 'tempm': '-10.6',\n",
      " 'thunder': '0',\n",
      " 'tornado': '0',\n",
      " 'utcdate': {'hour': '06',\n",
      "             'mday': '01',\n",
      "             'min': '56',\n",
      "             'mon': '01',\n",
      "             'pretty': '6:56 AM GMT on January 01, 2001',\n",
      "             'tzname': 'UTC',\n",
      "             'year': '2001'},\n",
      " 'visi': '9.0',\n",
      " 'vism': '14.5',\n",
      " 'wdird': '360',\n",
      " 'wdire': 'North',\n",
      " 'wgusti': '-9999.0',\n",
      " 'wgustm': '-9999.0',\n",
      " 'windchilli': '5.2',\n",
      " 'windchillm': '-14.9',\n",
      " 'wspdi': '4.6',\n",
      " 'wspdm': '7.4'}\n"
     ]
    }
   ],
   "source": [
    "pprint(data['history']['observations'][0])"
   ]
  },
  {
   "cell_type": "markdown",
   "metadata": {},
   "source": [
    "### Process all 365 files\n",
    "\n",
    "We will use the functions `from_json_to_dict()` and `from_dict_to_visibility()` in a loop for the whole year. Since `from_json_to_dict()` takes a prefix, we should first generate the prefixes."
   ]
  },
  {
   "cell_type": "code",
   "execution_count": 7,
   "metadata": {
    "collapsed": false,
    "deletable": false,
    "nbgrader": {
     "checksum": "3ac5e7f935647102d8e5853a94cbe927",
     "grade": false,
     "grade_id": "dates",
     "locked": true,
     "solution": false
    }
   },
   "outputs": [
    {
     "name": "stdout",
     "output_type": "stream",
     "text": [
      "The first five elements are ['0101', '0102', '0103', '0104', '0105']\n",
      "The last five elements are ['1227', '1228', '1229', '1230', '1231']\n"
     ]
    }
   ],
   "source": [
    "dates = ['{0:0>2}{1:0>2}'.format(m, d + 1) for m in [1, 3, 5, 7, 8, 10, 12] for d in range(31)]\n",
    "dates.extend(['{0:0>2}{1:0>2}'.format(m, d + 1) for m in [4, 6, 9, 11] for d in range(30)])\n",
    "dates.extend(['02{0:0>2}'.format(d + 1) for d in range(28)])\n",
    "dates.sort()\n",
    "\n",
    "print(\"The first five elements are {}\".format(dates[:5]))\n",
    "print(\"The last five elements are {}\".format(dates[-5:]))"
   ]
  },
  {
   "cell_type": "markdown",
   "metadata": {},
   "source": [
    "- Function `collect_365_days()` takes a list of strings, iterates through the list, and uses `from_json_to_dict()` and `from_dict_to_visibility()` to return a list of 5-tuples `(month, day, hour, minute, visibility)`.\n",
    "\n",
    "Let's collect the visibilities and tie them to a date:"
   ]
  },
  {
   "cell_type": "code",
   "execution_count": 8,
   "metadata": {
    "collapsed": false,
    "deletable": false,
    "nbgrader": {
     "checksum": "2183844ca1c40754094823c1c3bb385f",
     "grade": false,
     "grade_id": "collect_365_days_print",
     "locked": true,
     "solution": false
    }
   },
   "outputs": [
    {
     "name": "stdout",
     "output_type": "stream",
     "text": [
      "The length of visibilities is 10159.\n",
      "The first five elements of visibilities are [('01', '01', '00', '56', '9.0'), ('01', '01', '01', '56', '7.0'), ('01', '01', '02', '56', '10.0'), ('01', '01', '03', '56', '10.0'), ('01', '01', '04', '56', '9.0')]\n"
     ]
    }
   ],
   "source": [
    "visibilities = collect_365_days(dates)\n",
    "\n",
    "print(\"The length of visibilities is {}.\".format(len(visibilities)))\n",
    "print(\"The first five elements of visibilities are {}\".format(visibilities[:5]))"
   ]
  },
  {
   "cell_type": "markdown",
   "metadata": {},
   "source": [
    "Now we will combine the weather data with our flights data. We import the following columns of `2001.csv`:\n",
    "\n",
    "- Column 1: Month, 1-12\n",
    "- Column 2: DayofMonth, 1-31\n",
    "- Column 5: CRSDepTime, scheduled departure time (local, hhmm)\n",
    "- Column 8: UniqueCarrier, unique carrier code\n",
    "- Column 15: DepDelay, departure delay, in minutes\n",
    "- Column 16: Origin, origin IATA airport code"
   ]
  },
  {
   "cell_type": "code",
   "execution_count": 9,
   "metadata": {
    "collapsed": false,
    "deletable": false,
    "nbgrader": {
     "checksum": "703c8370875ed9945943d19e209df99c",
     "grade": false,
     "grade_id": "read_csv",
     "locked": true,
     "solution": false
    }
   },
   "outputs": [],
   "source": [
    "df = pd.read_csv(\n",
    "    '~/2001.csv',\n",
    "    encoding='latin-1',\n",
    "    usecols=(1, 2, 5, 8, 15, 16)\n",
    "    )"
   ]
  },
  {
   "cell_type": "markdown",
   "metadata": {},
   "source": [
    "We use only AA flights that departed from ORD (American Airlines is the largest airline using the O'Hare airport). We define a flight to be delayed if its departure delay is 15 minutes or more, the same definition used by the FAA (source: [Wikipedia](https://en.wikipedia.org/wiki/Flight_cancellation_and_delay))."
   ]
  },
  {
   "cell_type": "code",
   "execution_count": 10,
   "metadata": {
    "collapsed": false,
    "deletable": false,
    "nbgrader": {
     "checksum": "511e7829f71cc3c0ab28c3bcaaf60ab6",
     "grade": false,
     "grade_id": "local",
     "locked": true,
     "solution": false
    }
   },
   "outputs": [],
   "source": [
    "local = df[(df['Origin'] == 'ORD') & (df['UniqueCarrier'] == 'AA')]\n",
    "local = local.drop(['UniqueCarrier', 'Origin'], axis=1) # we don't need the Month and Origin columns anymore.\n",
    "local['Delayed'] = (local['DepDelay'] > 15).astype(np.int) # 1 if a flight was delayed, 0 if not.\n",
    "local = local.drop('DepDelay', axis=1).dropna() # we don't need the DepDelay column."
   ]
  },
  {
   "cell_type": "markdown",
   "metadata": {},
   "source": [
    "Let's print the first few columns and see what we'll be working with."
   ]
  },
  {
   "cell_type": "code",
   "execution_count": 11,
   "metadata": {
    "collapsed": false,
    "deletable": false,
    "nbgrader": {
     "checksum": "a21dce3e8525d5c0130ef5fcc3f26831",
     "grade": false,
     "grade_id": "print_local_head",
     "locked": true,
     "solution": false
    }
   },
   "outputs": [
    {
     "name": "stdout",
     "output_type": "stream",
     "text": [
      "        Month  DayofMonth  CRSDepTime  Delayed\n",
      "398444      1           1        1905        1\n",
      "398445      1           2        1905        1\n",
      "398446      1           3        1905        1\n",
      "398447      1           4        1905        0\n",
      "398448      1           5        1905        1\n"
     ]
    }
   ],
   "source": [
    "print(local.head(5))"
   ]
  },
  {
   "cell_type": "markdown",
   "metadata": {},
   "source": [
    "### Convert strings to numbers\n",
    "\n",
    "Now we want to match the `Month` and `DayofMonth` columns in `local` with the corresponding entries in `visibilities` and find the time in `visibilities` that is closes to the `CRSDepTime`."
   ]
  },
  {
   "cell_type": "code",
   "execution_count": 12,
   "metadata": {
    "collapsed": false
   },
   "outputs": [
    {
     "name": "stdout",
     "output_type": "stream",
     "text": [
      "int64\n"
     ]
    }
   ],
   "source": [
    "print(local.CRSDepTime.dtype)"
   ]
  },
  {
   "cell_type": "markdown",
   "metadata": {},
   "source": [
    "Recall that we had a tuple of strings, while the data types in `local` is integer. So let's convert the strings into integers in the form `mmddHHMM`, where `m` is month, `d` is day of month, `H` is hour, and `M` is minute. Let's create a data frame from tuple while we are at it so our function can do:"
   ]
  },
  {
   "cell_type": "code",
   "execution_count": 13,
   "metadata": {
    "collapsed": false
   },
   "outputs": [
    {
     "name": "stdout",
     "output_type": "stream",
     "text": [
      "[('01', '01', '00', '56', '9.0'), ('01', '01', '01', '56', '7.0'), ('01', '01', '02', '56', '10.0')]\n"
     ]
    }
   ],
   "source": [
    "print(visibilities[:3])"
   ]
  },
  {
   "cell_type": "code",
   "execution_count": 14,
   "metadata": {
    "collapsed": false,
    "deletable": false,
    "nbgrader": {
     "checksum": "9ce89cf52370351b87e8683f66438815",
     "grade": false,
     "grade_id": "time_visi",
     "locked": true,
     "solution": false
    }
   },
   "outputs": [
    {
     "name": "stdout",
     "output_type": "stream",
     "text": [
      "      Time  Visibility\n",
      "0  1010056           9\n",
      "1  1010156           7\n",
      "2  1010256          10\n"
     ]
    }
   ],
   "source": [
    "time_visi = from_string_to_numbers(visibilities)\n",
    "print(time_visi.head(3))"
   ]
  },
  {
   "cell_type": "markdown",
   "metadata": {},
   "source": [
    "### Create a Time column\n",
    "\n",
    "- Do the same for the `local` data frame. Put the result into a column named `Time` so we have"
   ]
  },
  {
   "cell_type": "code",
   "execution_count": 15,
   "metadata": {
    "collapsed": false,
    "deletable": false,
    "nbgrader": {
     "checksum": "875f79bbc91909037f034570097a0e89",
     "grade": false,
     "grade_id": "time_delayed",
     "locked": true,
     "solution": false
    }
   },
   "outputs": [
    {
     "name": "stdout",
     "output_type": "stream",
     "text": [
      "        Month  DayofMonth  CRSDepTime  Delayed     Time\n",
      "398444      1           1        1905        1  1011905\n",
      "398445      1           2        1905        1  1021905\n",
      "398446      1           3        1905        1  1031905\n",
      "398447      1           4        1905        0  1041905\n",
      "398448      1           5        1905        1  1051905\n"
     ]
    }
   ],
   "source": [
    "time_delayed = combine_time(local)\n",
    "print(time_delayed.head())"
   ]
  },
  {
   "cell_type": "markdown",
   "metadata": {},
   "source": [
    "- Function `match_visibility()` matches the time in each visibility tuple with the dates in `local`. It essentially adds visibility info into our DataFrame"
   ]
  },
  {
   "cell_type": "code",
   "execution_count": 16,
   "metadata": {
    "collapsed": false,
    "deletable": false,
    "nbgrader": {
     "checksum": "a4a0f770f5cb52ee5478519576d2288b",
     "grade": false,
     "grade_id": "match_visibility",
     "locked": true,
     "solution": false
    }
   },
   "outputs": [
    {
     "name": "stdout",
     "output_type": "stream",
     "text": [
      "        Month  DayofMonth  CRSDepTime  Delayed     Time  Visibility\n",
      "398444      1           1        1905        1  1011905          10\n",
      "398445      1           2        1905        1  1021905           9\n",
      "398446      1           3        1905        1  1031905           5\n",
      "398447      1           4        1905        0  1041905           7\n",
      "398448      1           5        1905        1  1051905          10\n"
     ]
    }
   ],
   "source": [
    "local_visi = match_visibility(time_delayed, time_visi)\n",
    "\n",
    "print(local_visi.head())"
   ]
  },
  {
   "cell_type": "markdown",
   "metadata": {},
   "source": [
    "Now we will split the data set into training and test sets. We will train on two columns, `CRSDepTime` and `Visibility`, so let's drop those columns."
   ]
  },
  {
   "cell_type": "code",
   "execution_count": 17,
   "metadata": {
    "collapsed": false,
    "deletable": false,
    "nbgrader": {
     "checksum": "6d589b18fa6e1611cd7a7ccb1920cd7f",
     "grade": false,
     "grade_id": "local_visi",
     "locked": true,
     "solution": false
    }
   },
   "outputs": [
    {
     "name": "stdout",
     "output_type": "stream",
     "text": [
      "        CRSDepTime  Delayed  Visibility\n",
      "398444        1905        1          10\n",
      "398445        1905        1           9\n",
      "398446        1905        1           5\n",
      "398447        1905        0           7\n",
      "398448        1905        1          10\n"
     ]
    }
   ],
   "source": [
    "local_visi = local_visi.drop(['Month', 'DayofMonth', 'Time'], axis=1)\n",
    "print(local_visi.head())"
   ]
  },
  {
   "cell_type": "code",
   "execution_count": 18,
   "metadata": {
    "collapsed": false,
    "deletable": false,
    "nbgrader": {
     "checksum": "6284f66d2068bcb0908580564810c9f0",
     "grade": false,
     "grade_id": "split_run_test",
     "locked": true,
     "solution": false
    }
   },
   "outputs": [],
   "source": [
    "X_train, X_test, y_train, y_test = split(\n",
    "    df=local_visi,\n",
    "    test_column=['Delayed'],\n",
    "    test_size=0.2,\n",
    "    random_state=check_random_state(0)\n",
    "    )"
   ]
  },
  {
   "cell_type": "markdown",
   "metadata": {},
   "source": [
    "### Train a Decision Trees model\n",
    "\n",
    "- Function `fit_decision()` trains a **Decision Trees** model."
   ]
  },
  {
   "cell_type": "code",
   "execution_count": 19,
   "metadata": {
    "collapsed": false,
    "deletable": false,
    "nbgrader": {
     "checksum": "a166bceb72bfea7d0a0f45bdacf3b201",
     "grade": false,
     "grade_id": "y_pred",
     "locked": true,
     "solution": false
    }
   },
   "outputs": [
    {
     "name": "stdout",
     "output_type": "stream",
     "text": [
      "The accuracy score is 0.82.\n"
     ]
    }
   ],
   "source": [
    "y_pred = fit_decision(X_train, y_train, X_test, random_state=check_random_state(0))\n",
    "accuracy = accuracy_score(y_test, y_pred)\n",
    "print('The accuracy score is {:0.2f}.'.format(accuracy))"
   ]
  },
  {
   "cell_type": "markdown",
   "metadata": {},
   "source": [
    "Not bad, but remember how unbalanced our data is:"
   ]
  },
  {
   "cell_type": "code",
   "execution_count": 20,
   "metadata": {
    "collapsed": false
   },
   "outputs": [
    {
     "data": {
      "text/plain": [
       "0    86682\n",
       "1    19256\n",
       "Name: Delayed, dtype: int64"
      ]
     },
     "execution_count": 20,
     "metadata": {},
     "output_type": "execute_result"
    }
   ],
   "source": [
    "local_visi['Delayed'].value_counts()"
   ]
  },
  {
   "cell_type": "markdown",
   "metadata": {},
   "source": [
    "If our model marked every flight as on time we would get the following accuracy:"
   ]
  },
  {
   "cell_type": "code",
   "execution_count": 21,
   "metadata": {
    "collapsed": false
   },
   "outputs": [
    {
     "data": {
      "text/plain": [
       "0.81823330627348068"
      ]
     },
     "execution_count": 21,
     "metadata": {},
     "output_type": "execute_result"
    }
   ],
   "source": [
    "local_visi['Delayed'].value_counts()[0]/(local_visi['Delayed'].value_counts()[0]+local_visi['Delayed'].value_counts()[1])"
   ]
  },
  {
   "cell_type": "markdown",
   "metadata": {},
   "source": [
    "## Random Forests\n",
    "\n",
    "In this problem, we will use the Random Forests classifier to see if we can use machine learning techniques to predict departure delays at the O'Hare airport (ORD).\n",
    "\n",
    "For the Random Forests classifier, we will add more columns than what we used in Problem 4.1 (i.e., the columns in `local_visi`), so let's import the following columns from `2001.csv`.\n",
    "\n",
    "- Column 1: Month, 1-12\n",
    "- Column 2: DayofMonth, 1-31\n",
    "- Column 3: DayOfWeek, 1 (Monday) - 7 (Sunday)\n",
    "- Column 5: CRSDepTime, scheduled departure time (local, hhmm)\n",
    "- Column 7: CRSArrTime, scheduled arrival time (local, hhmm)\n",
    "- Column 18: Distance, in miles"
   ]
  },
  {
   "cell_type": "code",
   "execution_count": 22,
   "metadata": {
    "collapsed": false,
    "deletable": false,
    "nbgrader": {
     "checksum": "493f81468807fe7d23989d22ef38ccd5",
     "grade": false,
     "grade_id": "read_csv",
     "locked": true,
     "solution": false
    }
   },
   "outputs": [],
   "source": [
    "df = pd.read_csv(\n",
    "    '~/2001.csv',\n",
    "    encoding='latin-1',\n",
    "    usecols=(1, 2, 3, 5, 7, 18)\n",
    "    )"
   ]
  },
  {
   "cell_type": "markdown",
   "metadata": {},
   "source": [
    "We can use the index of `local_visi` to extract the rows we need.\n",
    "\n",
    "```python\n",
    ">>> print(local.head())\n",
    "```\n",
    "\n",
    "```\n",
    "   Month  DayofMonth  DayOfWeek  CRSDepTime  CRSArrTime  Distance  Visibility  \\\n",
    "0      1           1          1        1905        2159      1846          10   \n",
    "1      1           2          2        1905        2159      1846           9   \n",
    "2      1           3          3        1905        2159      1846           5   \n",
    "3      1           4          4        1905        2159      1846           8   \n",
    "4      1           5          5        1905        2159      1846          10   \n",
    "\n",
    "   Delayed  \n",
    "0        1  \n",
    "1        1  \n",
    "2        1  \n",
    "3        0  \n",
    "4        1  \n",
    "```"
   ]
  },
  {
   "cell_type": "code",
   "execution_count": 23,
   "metadata": {
    "collapsed": false,
    "deletable": false,
    "nbgrader": {
     "checksum": "78b1e88c120c618e5de8bc2655ea9726",
     "grade": false,
     "grade_id": "local",
     "locked": true,
     "solution": false
    }
   },
   "outputs": [
    {
     "name": "stdout",
     "output_type": "stream",
     "text": [
      "   Month  DayofMonth  DayOfWeek  CRSDepTime  CRSArrTime  Distance  Visibility  \\\n",
      "0      1           1          1        1905        2159      1846          10   \n",
      "1      1           2          2        1905        2159      1846           9   \n",
      "2      1           3          3        1905        2159      1846           5   \n",
      "3      1           4          4        1905        2159      1846           7   \n",
      "4      1           5          5        1905        2159      1846          10   \n",
      "\n",
      "   Delayed  \n",
      "0        1  \n",
      "1        1  \n",
      "2        1  \n",
      "3        0  \n",
      "4        1  \n"
     ]
    }
   ],
   "source": [
    "df = df.loc[local_visi.index, :]\n",
    "df.loc[local_visi.index, 'Visibility'] = local_visi['Visibility']\n",
    "df.loc[local_visi.index, 'Delayed'] = local_visi['Delayed']\n",
    "local = df.reset_index(drop=True) # easier to reset the index in this problem\n",
    "\n",
    "print(local.head())"
   ]
  },
  {
   "cell_type": "code",
   "execution_count": 24,
   "metadata": {
    "collapsed": false,
    "deletable": false,
    "nbgrader": {
     "checksum": "bda3d5b43f6794e3a8b892664967abe1",
     "grade": false,
     "grade_id": "split_run_test",
     "locked": true,
     "solution": false
    }
   },
   "outputs": [],
   "source": [
    "X_train, X_test, y_train, y_test = split(\n",
    "    df=df,\n",
    "    test_column=['Delayed'],\n",
    "    test_size=0.2,\n",
    "    random_state=check_random_state(0)\n",
    "    )"
   ]
  },
  {
   "cell_type": "markdown",
   "metadata": {},
   "source": [
    "### Use sklearn.KFold\n",
    "\n",
    "In the previous problems, we used a validation set to adjust the hyperparameters. The <a href=\"https://en.wikipedia.org/wiki/Cross-validation_(statistics)#k-fold_cross-validation\">k-fold cross-validation</a> technique extends the idea of validation set.\n",
    "\n",
    "We are going to use $k$-fold CV to\n",
    "\n",
    "1. measure the performance increase with increasing number of trees, and\n",
    "2. optimize one of the hyperparameters, `max_features`.\n",
    "\n",
    "- Function `get_cv_indices()` uses [sklearn.cross_validation.KFold()](http://scikit-learn.org/stable/modules/generated/sklearn.cross_validation.KFold.html) to take a data frame and return a $k$-fold cross-validation iterator.\n",
    "\n",
    "We'll call `get_cv_indices()` later."
   ]
  },
  {
   "cell_type": "markdown",
   "metadata": {},
   "source": [
    "### Random Forest Classifier\n",
    "\n",
    "We are going to use the Random Forest classifier and adjust two hyperparameters, `n_estimators` and `max_features`.\n",
    "\n",
    "`n_estimators` represents the number of trees in the forest, and the default value is 10, which is usually too small for big data sets. It is somewhat trivial to find the best value, because the classifer performance usually increases with the number of trees. So you should have as many trees as possible, but only up to a point because you get diminishing returns once you have enough trees.\n",
    "\n",
    "`max_features` is the number of features that are considered for each split. This is quite possibly the most important parameter. The rule of thumb that gets thrown around a lot is the square root of total number of features, but it's best to fine tune this parameter.\n",
    "\n",
    "- Function `get_rfc()` that accepts two hyperparameters, `n_estimators` and `max_features`. It returns an `sklearn.RandomForestClassifier` instance.\n",
    "\n",
    "We'll call `get_rfc()` to fit and predict."
   ]
  },
  {
   "cell_type": "markdown",
   "metadata": {},
   "source": [
    "### Fit and predict\n",
    "\n",
    "- Function `get_proba()` makes predictions on the validation set. The paremeters `idx_train` and `idx_valid` are received from `get_cv_indices()`. For example, \n",
    "\n",
    "```python\n",
    ">>> example_kf = get_cv_indices(\n",
    "...     pd.DataFrame({'a': np.arange(20)}), 4, check_random_state(1)\n",
    "...     )\n",
    "\n",
    ">>> for idx_train, idx_valid in example_kf:\n",
    "...     print(idx_train, idx_valid)\n",
    "```\n",
    "\n",
    "```\n",
    "[ 5  6  7  8  9 10 11 12 13 14 15 16 17 18 19] [0 1 2 3 4]\n",
    "[ 0  1  2  3  4 10 11 12 13 14 15 16 17 18 19] [5 6 7 8 9]\n",
    "[ 0  1  2  3  4  5  6  7  8  9 15 16 17 18 19] [10 11 12 13 14]\n",
    "[ 0  1  2  3  4  5  6  7  8  9 10 11 12 13 14] [15 16 17 18 19]\n",
    "```\n",
    "\n",
    "The type of these indices is **numpy.ndarray**:\n",
    "\n",
    "```python\n",
    ">>> print(type(idx_train))\n",
    "```\n",
    "\n",
    "```\n",
    "<class 'numpy.ndarray'>\n",
    "```"
   ]
  },
  {
   "cell_type": "markdown",
   "metadata": {},
   "source": [
    "### Area under the ROC curve\n",
    "\n",
    "- Function `get_auc()` uses the `get_proba()` function to train a Random Forest classifier (`rfc`) on a subset of X_train/y_train, makes predictions on the validation data, and returns a one-dimensional Numpy array.\n",
    "\n",
    "The $k$-th element in the array is the AUC score evaluated on the $k$-th cross-validation data. So if we use 10-fold cross-validation, we will get a Numpy array with length 10."
   ]
  },
  {
   "cell_type": "markdown",
   "metadata": {},
   "source": [
    "### The number of trees\n",
    "\n",
    "We will increase the number of trees from 10 to 100 and plot the relationship between the number of trees and the area under the ROC curve."
   ]
  },
  {
   "cell_type": "code",
   "execution_count": 25,
   "metadata": {
    "collapsed": false,
    "deletable": false,
    "nbgrader": {
     "checksum": "6ad92ec378a793645ee53d30a2875092",
     "grade": false,
     "grade_id": "print_trees_auc",
     "locked": true,
     "solution": false
    }
   },
   "outputs": [
    {
     "name": "stdout",
     "output_type": "stream",
     "text": [
      "Trees   AUC\n",
      "------------\n",
      " 10    0.700\n",
      " 20    0.717\n",
      " 30    0.723\n",
      " 40    0.726\n",
      " 50    0.728\n",
      " 60    0.729\n",
      " 70    0.731\n",
      " 80    0.731\n",
      " 90    0.731\n",
      "100    0.731\n"
     ]
    }
   ],
   "source": [
    "result = []\n",
    "\n",
    "print('Trees   AUC\\n'\n",
    "      '------------')\n",
    "\n",
    "for n_trees in range(10, 110, 10):\n",
    "    kf = get_cv_indices(X_train, 3, check_random_state(0))\n",
    "    rfc = get_rfc(n_trees, 3, check_random_state(0))\n",
    "    mean_auc = get_auc(kf, rfc, X_train, y_train).mean()\n",
    "    result.append((n_trees, mean_auc))\n",
    "    print('{0:3d}    {1:0.3f}'.format(n_trees, mean_auc))"
   ]
  },
  {
   "cell_type": "code",
   "execution_count": 26,
   "metadata": {
    "collapsed": false,
    "deletable": false,
    "nbgrader": {
     "checksum": "fd62840246fd508b28bdd247fd617a57",
     "grade": false,
     "grade_id": "plot_trees_auc",
     "locked": true,
     "solution": false
    }
   },
   "outputs": [
    {
     "data": {
      "text/plain": [
       "<matplotlib.text.Text at 0x10b431898>"
      ]
     },
     "execution_count": 26,
     "metadata": {},
     "output_type": "execute_result"
    },
    {
     "data": {
      "image/png": "[encoded data removed]",
      "text/plain": [
       "<matplotlib.figure.Figure at 0x10b468a90>"
      ]
     },
     "metadata": {},
     "output_type": "display_data"
    }
   ],
   "source": [
    "result = np.array(result)\n",
    "fig, ax = plt.subplots()\n",
    "\n",
    "ax.plot(result[:, 0], result[:, 1])\n",
    "ax.set_title('AUC ROC vs number of trees')\n",
    "ax.set_xlabel('Number of trees')\n",
    "ax.set_ylabel('AUC ROC')"
   ]
  },
  {
   "cell_type": "markdown",
   "metadata": {},
   "source": [
    "### Optimize number of features\n",
    "\n",
    "We will vary the number of features at each split to find the best values of `max_features`. The optimal range is `max_features=1` to `max_features=7` inclusive.\n",
    "\n",
    "We'll use 4-fold cross-validation, `n_folds=4`. We will also use `n_trees=20` to save time, but we could search for the optimal hyperparameter for `n_trees`. "
   ]
  },
  {
   "cell_type": "code",
   "execution_count": 27,
   "metadata": {
    "collapsed": false,
    "deletable": false,
    "nbgrader": {
     "checksum": "6436140e6a447c886a1b0842d2f8b795",
     "grade": false,
     "grade_id": "max_features",
     "locked": true,
     "solution": false
    }
   },
   "outputs": [
    {
     "name": "stdout",
     "output_type": "stream",
     "text": [
      "The best value for max_features is 3.\n"
     ]
    }
   ],
   "source": [
    "max_features = optimize_max_features(X_train, y_train, check_random_state(0), check_random_state(0))\n",
    "best_max_features = np.argmax(np.array(max_features)[:, 1]) + 1\n",
    "print('The best value for max_features is {}.'.format(best_max_features))"
   ]
  },
  {
   "cell_type": "markdown",
   "metadata": {},
   "source": [
    "It looks like our classifier performs best when we use `max_features=3`."
   ]
  },
  {
   "cell_type": "markdown",
   "metadata": {},
   "source": [
    "### Final Random Forest model\n",
    "\n",
    "Now that we have optimized the `max_features` parameter, let's use this value to train a model with `max_features=3` and `n_trees=100`. Once we train the model on the entire training set, we will make probabilistic preditions for the test set.\n",
    "\n",
    "We will be making **probabilistic** predictions, so we should use `predict_proba()`."
   ]
  },
  {
   "cell_type": "code",
   "execution_count": 28,
   "metadata": {
    "collapsed": false,
    "deletable": false,
    "nbgrader": {
     "checksum": "c3d4ea02650a58388719291d52657097",
     "grade": false,
     "grade_id": "y_pred_final",
     "locked": true,
     "solution": false
    }
   },
   "outputs": [
    {
     "name": "stdout",
     "output_type": "stream",
     "text": [
      "[[ 0.74  0.26]\n",
      " [ 0.98  0.02]\n",
      " [ 0.94  0.06]\n",
      " ..., \n",
      " [ 1.    0.  ]\n",
      " [ 0.96  0.04]\n",
      " [ 0.89  0.11]]\n"
     ]
    }
   ],
   "source": [
    "y_pred = get_final_rfc(X_train, y_train, X_test, best_max_features, check_random_state(0))\n",
    "print(y_pred)"
   ]
  },
  {
   "cell_type": "markdown",
   "metadata": {},
   "source": [
    "### Plot ROC curve\n",
    "\n",
    "- We'll use `sklearn.roc_curve()` to plot the ROC curve. The False Positive Rate is on the $x$-axis, and the True Positive Rate is on the $y$-axis."
   ]
  },
  {
   "cell_type": "code",
   "execution_count": 29,
   "metadata": {
    "collapsed": false,
    "deletable": false,
    "nbgrader": {
     "checksum": "6a630b277bf67f5fc1daa2b90a3f6d50",
     "grade": false,
     "grade_id": "ax",
     "locked": true,
     "solution": false
    },
    "scrolled": true
   },
   "outputs": [
    {
     "data": {
      "image/png": "[encoded data removed]",
      "text/plain": [
       "<matplotlib.figure.Figure at 0x10b45f1d0>"
      ]
     },
     "metadata": {},
     "output_type": "display_data"
    }
   ],
   "source": [
    "ax = plot_roc_curve(y_test, y_pred)"
   ]
  },
  {
   "cell_type": "markdown",
   "metadata": {},
   "source": [
    "An indicator of a highly accurate model would be if the ROC curve hugs the y-axis for a while, which it clearly does not here. The area under the ROC curve is also average (with an area of .5 signifying a worthless model and an area of 1 describing a perfect model."
   ]
  },
  {
   "cell_type": "markdown",
   "metadata": {
    "collapsed": false,
    "deletable": false,
    "nbgrader": {
     "checksum": "f53ee9bf1e1af1112475ae5fb19e51e4",
     "grade": false,
     "grade_id": "local_visi",
     "locked": true,
     "solution": false
    }
   },
   "source": [
    "# Summary\n",
    "\n",
    "If you've read the Supervised Learning notebook, you may have already had some predisposition to the expected success of this model. We tried two tree-based models, Decision Trees and Random Forests to see if we could do any better at predicting delays at O'Hare Airport.\n",
    "\n",
    "In our decision trees model, we first added visibility information from WeatherUnderground. This seemed promising, but we still had an accuracy close to that if we marked every flight on-time.\n",
    "\n",
    "Our Random Forests model wasn't much better. We tuned the hyperparameters and optimized our RF model, but our results were average, at best. At this point you may be wondering, what's the point of all of this?! Well now you can tell the next disgruntled airline passenger you come across that it's tremendously difficult to predict delays!"
   ]
  }
 ],
 "metadata": {
  "kernelspec": {
   "display_name": "Python 3",
   "language": "python",
   "name": "python3"
  },
  "language_info": {
   "codemirror_mode": {
    "name": "ipython",
    "version": 3
   },
   "file_extension": ".py",
   "mimetype": "text/x-python",
   "name": "python",
   "nbconvert_exporter": "python",
   "pygments_lexer": "ipython3",
   "version": "3.5.1"
  },
  "name": "_merged"
 },
 "nbformat": 4,
 "nbformat_minor": 0
}
